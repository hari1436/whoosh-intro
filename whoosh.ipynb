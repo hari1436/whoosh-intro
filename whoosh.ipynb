{
 "cells": [
  {
   "cell_type": "code",
   "execution_count": 1,
   "metadata": {},
   "outputs": [
    {
     "name": "stdout",
     "output_type": "stream",
     "text": [
      "<Hit {'content': 'This is the second example hello world.', 'path': '/b', 'title': 'Second try'}>\n",
      "<Hit {'content': 'This is the second example hello world.', 'path': '/b', 'title': 'Second try'}> 2.124137931034483\n",
      "{('content', b'hello'), ('content', b'world')}\n",
      "<Hit {'content': 'This is my python document! hello big world', 'path': '/a', 'title': 'My document'}> 1.7906976744186047\n",
      "{('content', b'hello'), ('content', b'world')}\n",
      "matched terms\n",
      "[('content', b'hello'), ('content', b'world')]\n",
      "[('content', b'hello'), ('content', b'world')]\n",
      "more_results\n",
      "<Top 1 Results for Or([Term('content', 'example', boost=0.6588835188105945), Term('content', 'second', boost=0.6588835188105945), Term('content', 'hello', boost=0.5617184491361429), Term('content', 'world', boost=0.5617184491361429)]) runtime=0.002138999999999669>\n",
      "Scored 2 of exactly 2 documents\n"
     ]
    }
   ],
   "source": [
    "from whoosh.fields import Schema, TEXT, ID\n",
    "from whoosh import index\n",
    " \n",
    "#To create an index in a directory, use index.create_in:\n",
    " \n",
    "import os.path\n",
    " \n",
    "if not os.path.exists(\"indexdir\"):\n",
    "    os.mkdir(\"indexdir\")\n",
    "     \n",
    "schema = Schema(title=TEXT(stored=True), path=ID(stored=True), content=TEXT(stored = True))\n",
    " \n",
    " \n",
    "ix = index.create_in(\"indexdir\", schema)\n",
    " \n",
    "writer = ix.writer()\n",
    "writer.add_document(title=u\"My document\", content=u\"This is my python document! hello big world\",\n",
    "                    path=u\"/a\")\n",
    "writer.add_document(title=u\"Second try\", content=u\"This is the second example hello world.\",\n",
    "                    path=u\"/b\")\n",
    "writer.add_document(title=u\"Third time's the charm\", content=u\"More examples. Examples are many.\",\n",
    "                    path=u\"/c\")\n",
    " \n",
    "writer.commit()\n",
    " \n",
    " \n",
    "from whoosh.qparser import QueryParser\n",
    " \n",
    "with ix.searcher() as searcher:\n",
    "     query = QueryParser(\"content\", ix.schema).parse(\"hello world\")\n",
    "     results = searcher.search(query, terms=True)\n",
    "     print(results[0])\n",
    " \n",
    "     for r in results:\n",
    "         print (r, r.score)\n",
    "         # Was this results object created with terms=True?\n",
    "         if results.has_matched_terms():\n",
    "            # What terms matched in the results?\n",
    "            print(results.matched_terms())\n",
    "         \n",
    "     # What terms matched in each hit?\n",
    "     print (\"matched terms\")\n",
    "     for hit in results:\n",
    "        print(hit.matched_terms())\n",
    " \n",
    "      \n",
    " \n",
    "     print (\"more_results\")\n",
    "     first_hit = results[0]\n",
    "     more_results = first_hit.more_like_this(\"content\")\n",
    "     print (more_results)     \n",
    "         \n",
    "     \n",
    "found = results.scored_length()\n",
    "if results.has_exact_length():\n",
    "    print(\"Scored\", found, \"of exactly\", len(results), \"documents\")\n",
    "else:\n",
    "    low = results.estimated_min_length()\n",
    "    high = results.estimated_length()\n",
    " \n",
    "    print(\"Scored\", found, \"of between\", low, \"and\", high, \"documents\")    "
   ]
  }
 ],
 "metadata": {
  "kernelspec": {
   "display_name": "Python 3",
   "language": "python",
   "name": "python3"
  },
  "language_info": {
   "codemirror_mode": {
    "name": "ipython",
    "version": 3
   },
   "file_extension": ".py",
   "mimetype": "text/x-python",
   "name": "python",
   "nbconvert_exporter": "python",
   "pygments_lexer": "ipython3",
   "version": "3.7.3"
  }
 },
 "nbformat": 4,
 "nbformat_minor": 2
}
